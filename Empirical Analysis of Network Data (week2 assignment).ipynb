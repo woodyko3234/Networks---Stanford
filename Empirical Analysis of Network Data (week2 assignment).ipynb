{
 "cells": [
  {
   "cell_type": "markdown",
   "metadata": {},
   "source": [
    "For these first two optional questions, we will analyze a trade network among countries.\n",
    "\n",
    "Please use the data set \"imports_manufactures.net\" available below.\n",
    "\n",
    "Remember: When you are downloading the data files associated with the problem sets, then make sure that you Right click on a link that has the data set and then click 'save link as' and make sure it has the same file extension it started with. If instead you simply click on the file, some browsers will corrupt the file when saving it. In particular, many browsers will try to save a .net file as a .txt file (it will add a txt suffice to the title and in some cases also corrupt the internal workings of the file). For example, you can save a .net file properly using Chrome as follows: go to the link and right clique on it and then 'save as' - it will try to save it as text, so instead click on 'all files' in the tab below. Then you need to remove the .txt that it will try to save with the name."
   ]
  },
  {
   "cell_type": "code",
   "execution_count": 7,
   "metadata": {
    "collapsed": true
   },
   "outputs": [],
   "source": [
    "import networkx as nx\n",
    "import numpy as np"
   ]
  },
  {
   "cell_type": "markdown",
   "metadata": {},
   "source": [
    "Which of the following country has the maximum closeness centrality?"
   ]
  },
  {
   "cell_type": "code",
   "execution_count": 2,
   "metadata": {
    "collapsed": true
   },
   "outputs": [],
   "source": [
    "N = nx.read_pajek('imports_manufactures.net')"
   ]
  },
  {
   "cell_type": "code",
   "execution_count": 12,
   "metadata": {},
   "outputs": [
    {
     "name": "stdout",
     "output_type": "stream",
     "text": [
      "Germany\n"
     ]
    }
   ],
   "source": [
    "closeness_data = nx.closeness_centrality(N)\n",
    "max_close = max(clossness_data.values())\n",
    "for i in closeness_data:\n",
    "    if closeness_data[i] == max_close:\n",
    "        print(i)"
   ]
  },
  {
   "cell_type": "markdown",
   "metadata": {},
   "source": [
    "Which of the following country has the maximum \"Betweenness centrality\"?"
   ]
  },
  {
   "cell_type": "code",
   "execution_count": 17,
   "metadata": {},
   "outputs": [
    {
     "name": "stdout",
     "output_type": "stream",
     "text": [
      "United States\n"
     ]
    }
   ],
   "source": [
    "betweenness = nx.betweenness_centrality(N)\n",
    "max_between = max(betweenness.values())\n",
    "for i in betweenness:\n",
    "    if betweenness[i] == max_between:\n",
    "        print(i)"
   ]
  },
  {
   "cell_type": "code",
   "execution_count": 14,
   "metadata": {
    "collapsed": true
   },
   "outputs": [],
   "source": [
    "by1 = nx.fast_gnp_random_graph(400, 1/400)\n",
    "by5 = nx.fast_gnp_random_graph(400, 5/400)\n",
    "by10 = nx.fast_gnp_random_graph(400, 10/400)\n",
    "by20 = nx.fast_gnp_random_graph(400, 20/400)"
   ]
  },
  {
   "cell_type": "code",
   "execution_count": 15,
   "metadata": {},
   "outputs": [
    {
     "name": "stdout",
     "output_type": "stream",
     "text": [
      "by10\n",
      "by20\n"
     ]
    }
   ],
   "source": [
    "for i, n in zip([by1, by5, by10, by20], ['by1','by5','by10','by20']):\n",
    "    if nx.is_connected(i):\n",
    "        print(n)"
   ]
  },
  {
   "cell_type": "code",
   "execution_count": null,
   "metadata": {
    "collapsed": true
   },
   "outputs": [],
   "source": []
  }
 ],
 "metadata": {
  "kernelspec": {
   "display_name": "Python [default]",
   "language": "python",
   "name": "python3"
  },
  "language_info": {
   "codemirror_mode": {
    "name": "ipython",
    "version": 3
   },
   "file_extension": ".py",
   "mimetype": "text/x-python",
   "name": "python",
   "nbconvert_exporter": "python",
   "pygments_lexer": "ipython3",
   "version": "3.5.4"
  }
 },
 "nbformat": 4,
 "nbformat_minor": 2
}
